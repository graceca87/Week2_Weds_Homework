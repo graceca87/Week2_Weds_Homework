{
 "cells": [
  {
   "cell_type": "markdown",
   "metadata": {},
   "source": [
    "### Exercise 1"
   ]
  },
  {
   "cell_type": "markdown",
   "metadata": {},
   "source": [
    "Given an array of positive integers `nums`, return a list of all of the negative integers.<br>\n",
    "Ex. 1<br>\n",
    "nums = [1, 3, 5, 7, 8]<br>\n",
    "Expected Output: [-1, -3, -5, -7, -8]<br>\n",
    "\n",
    "Ex. 2<br>\n",
    "nums = [100, 534, 32, 15, 77, 222, 788, 345, 75645, 22]<br>\n",
    "Expected Output: [-100, -534, -32, -15, -77, -222, -788, -345, -75645, -22]<br>"
   ]
  },
  {
   "cell_type": "code",
   "execution_count": 137,
   "metadata": {},
   "outputs": [
    {
     "name": "stdout",
     "output_type": "stream",
     "text": [
      "[-100, -534, -32, -15, -77, -222, -788, -345, -75645, -22]\n",
      "==========================================\n",
      "[-100, -534, -32, -15, -77, -222, -788, -345, -75645, -22]\n"
     ]
    }
   ],
   "source": [
    "# Input: List1[positive integers]\n",
    "\n",
    "# Output: List2[opposite negative integers from list1]\n",
    "\n",
    "# List items must be integers. Can't be floats. \n",
    "\n",
    "# Create a function that can find the negative equivalent to each value in a list and print out a second list with the negetive values.\n",
    "# 1. Give function a name and assign its parameters.\n",
    "#    (def get_negatives_of(nums))\n",
    "\n",
    "# 2. Loop through each value in list one. \n",
    "#        for num in nums(list1)\n",
    "\n",
    "# 3. Figure out how to get the negative equivalent for each positive iteger in list1.\n",
    "#         neg_nums = num - num*2\n",
    "\n",
    "# 4. Create an empty list (list2)\n",
    "#             neg_nums_list[]\n",
    "\n",
    "# 5. Add the negative numbers to your new list\n",
    "    \n",
    "# 6. Ask Python to return the result\n",
    "#             return neg_nums\n",
    "\n",
    "# 7. Tell Python what your aguments are\n",
    "#             nums = [1, 3, 5, 7, 8]\n",
    "    \n",
    "# 8. Call your function\n",
    "#         get_negatives_of(nums) <--- enter your arguments ()\n",
    "\n",
    "\n",
    "\n",
    "def get_negatives_from(nums):\n",
    "    for num in nums:\n",
    "        if num > 0:\n",
    "            neg_nums = num - (num * 2)\n",
    "            neg_nums_list.append(neg_nums)\n",
    "        \n",
    "\n",
    "neg_nums_list = []\n",
    "nums = [100, 534, 32, 15, 77, 222, 788, 345, 75645, 22]\n",
    "get_negatives_from(nums)\n",
    "print(neg_nums_list)\n",
    "\n",
    "\n",
    "print(\"==========================================\")\n",
    "\n",
    "\n",
    "\n",
    "# using list comprehension:\n",
    "\n",
    "\n",
    "negs_nums_list = [num - (num * 2) for num in nums if num > 0]\n",
    "\n",
    "print(neg_nums_list)\n"
   ]
  },
  {
   "cell_type": "markdown",
   "metadata": {},
   "source": [
    "### Exercise 2"
   ]
  },
  {
   "cell_type": "markdown",
   "metadata": {},
   "source": [
    "Given a string, return a list of all of the digits in the string.<br>\n",
    "Ex. 1 <br>\n",
    "address = \"123 Real Street, Apt. 2, Springfield, OR 43498\"<br>\n",
    "Expected Output: ['1', '2', '3', '2', '4', '3', '4', '9', '8']<br>\n",
    "\n",
    "Ex. 2 <br>\n",
    "sentence = \"My phone number is (555) 555-4321\"<br>\n",
    "Expected Output: ['5', '5', '5', '5', '5', '5', '4', '3', '2', '1']<br>"
   ]
  },
  {
   "cell_type": "code",
   "execution_count": 130,
   "metadata": {},
   "outputs": [
    {
     "name": "stdout",
     "output_type": "stream",
     "text": [
      "['1', '2', '3', '2', '4', '3', '4', '9', '8']\n",
      "==========================================\n",
      "['1', '2', '3', '2', '4', '3', '4', '9', '8']\n"
     ]
    }
   ],
   "source": [
    "# Hint: Look at the string methods! -- help(str)\n",
    "\n",
    "\n",
    "# Input: String \"contains alphabetical characters and integers\"\n",
    "\n",
    "# Output: List[only integers]\n",
    "\n",
    "# Constraints: Need to pass over all alphabetical characters\n",
    "\n",
    "# Create a function that can loop through a string, and when it hits an integer it will put that integer into a list.\n",
    "\n",
    "\n",
    "# 1. Give function a name and assign its parameters.\n",
    "#         def nums_in_string(chars)\n",
    "\n",
    "# 2. Loop through each value in string. \n",
    "#        for char in chars:\n",
    "\n",
    "# 3. Figure out how to identify integers.\n",
    "#           if char.isdigit() == True:\n",
    "\n",
    "# 4. Create an empty list.\n",
    "#            List = []\n",
    "\n",
    "# 5. Add the integers to your new list.\n",
    "\n",
    "# 6. Tell Python what your string is.\n",
    "#          address = \"123 Real Street, Apt. 2, Springfield, OR 43498\"\n",
    "    \n",
    "# 7. Call your function\n",
    "#         def nums_in_string(chars) <--- enter your arguments ()\n",
    "\n",
    "\n",
    "\n",
    "def nums_in_string(address):\n",
    "    for char in address:\n",
    "        if char.isdigit():\n",
    "            List.append(char)\n",
    "            \n",
    "        \n",
    "\n",
    "List = []\n",
    "address = \"123 Real Street, Apt. 2, Springfield, OR 43498\"\n",
    "nums_in_string(address)\n",
    "print(List)\n",
    "\n",
    "\n",
    "\n",
    "print(\"==========================================\")\n",
    "\n",
    "\n",
    "\n",
    "# using list comprehension:\n",
    "\n",
    "List = [char for char in address if char.isdigit()]\n",
    "\n",
    "print(List)\n"
   ]
  },
  {
   "cell_type": "markdown",
   "metadata": {},
   "source": [
    "### Exercise 3"
   ]
  },
  {
   "cell_type": "markdown",
   "metadata": {},
   "source": [
    "Given a string `digits`, return a **string** of the digits + 1<br>\n",
    "\n",
    "Ex. 1<br>\n",
    "digits = '123'<br>\n",
    "Expected Output: '124'<br>\n",
    "\n",
    "Ex. 2<br>\n",
    "digits = '99'<br>\n",
    "Expected Output: '100'<br>"
   ]
  },
  {
   "cell_type": "code",
   "execution_count": 118,
   "metadata": {},
   "outputs": [
    {
     "data": {
      "text/plain": [
       "'8275'"
      ]
     },
     "execution_count": 118,
     "metadata": {},
     "output_type": "execute_result"
    }
   ],
   "source": [
    "# Input: string1 = \"digits(integers only)\"\n",
    "\n",
    "# Output: string2 = \"string1 + 1\"\n",
    "\n",
    "# Constraints: \n",
    "\n",
    "# Create a function that can loop through the digits in a string, convert them to integers, then return a new string that has increased the number in the first string by one. \n",
    "\n",
    "\n",
    "# 1. Give function a name and assign its parameters.\n",
    "#         def plus_one(digits)\n",
    "\n",
    "# 2. Loop through each value in string: \n",
    "#        for num in digits:\n",
    "\n",
    "# 3. Convert num to integer:\n",
    "#           int(num)\n",
    "\n",
    "# 4. Add 1:\n",
    "#             num = int(num) + 1\n",
    "\n",
    "# 6. Tell Python what your string is.\n",
    "#          digits = '99'\n",
    "    \n",
    "# 7. Call your function\n",
    "#         def plus_one(digits) <--- enter your arguments ()\n",
    "\n",
    "\n",
    "\n",
    "def string_plus_one(digits):\n",
    "    string2 = int(digits) + int(1)\n",
    "    return str(string2)\n",
    "\n",
    "digits = '8274'\n",
    "string_plus_one(digits)\n",
    "    \n",
    "   \n",
    "  \n",
    "    \n",
    "    \n",
    "    "
   ]
  },
  {
   "cell_type": "code",
   "execution_count": null,
   "metadata": {},
   "outputs": [],
   "source": []
  }
 ],
 "metadata": {
  "kernelspec": {
   "display_name": "Python 3 (ipykernel)",
   "language": "python",
   "name": "python3"
  },
  "language_info": {
   "codemirror_mode": {
    "name": "ipython",
    "version": 3
   },
   "file_extension": ".py",
   "mimetype": "text/x-python",
   "name": "python",
   "nbconvert_exporter": "python",
   "pygments_lexer": "ipython3",
   "version": "3.9.12"
  }
 },
 "nbformat": 4,
 "nbformat_minor": 4
}
